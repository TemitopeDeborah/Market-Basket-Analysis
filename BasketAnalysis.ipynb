{
 "cells": [
  {
   "cell_type": "markdown",
   "id": "8ac4bc15-4e92-4fe1-a8f6-7e750ca56449",
   "metadata": {},
   "source": [
    "## Market Basket Analysis for E-commerce\n",
    "####  This project involves the analysis of customers purchase behavior to uncover patterns to improve sales and customer satisfaction  "
   ]
  },
  {
   "cell_type": "code",
   "execution_count": 1,
   "id": "2b9be26e-1dba-4f49-88e7-734872b9ed0d",
   "metadata": {},
   "outputs": [],
   "source": [
    "# Import pandas and plotting libraries\n",
    "import matplotlib\n",
    "import matplotlib.pyplot as plt\n",
    "import numpy as np\n",
    "import pandas as pd\n",
    "from pandas.plotting import scatter_matrix\n",
    "%matplotlib inline \n",
    "\n",
    "import seaborn as sns\n",
    "sns.set(style=\"white\", color_codes=True)\n",
    "sns.set(font_scale=1.5)"
   ]
  },
  {
   "cell_type": "code",
   "execution_count": 2,
   "id": "caa44a40-8e73-4011-a80f-5f7dc64f53c8",
   "metadata": {},
   "outputs": [],
   "source": [
    "# Loading the dataset\n",
    "df_market = pd.read_csv(\"market.csv\")"
   ]
  },
  {
   "cell_type": "code",
   "execution_count": 3,
   "id": "601e2f74-0d81-4c81-b210-749d37895e9c",
   "metadata": {},
   "outputs": [
    {
     "data": {
      "text/html": [
       "<div>\n",
       "<style scoped>\n",
       "    .dataframe tbody tr th:only-of-type {\n",
       "        vertical-align: middle;\n",
       "    }\n",
       "\n",
       "    .dataframe tbody tr th {\n",
       "        vertical-align: top;\n",
       "    }\n",
       "\n",
       "    .dataframe thead th {\n",
       "        text-align: right;\n",
       "    }\n",
       "</style>\n",
       "<table border=\"1\" class=\"dataframe\">\n",
       "  <thead>\n",
       "    <tr style=\"text-align: right;\">\n",
       "      <th></th>\n",
       "      <th>Member_number</th>\n",
       "      <th>Date</th>\n",
       "      <th>itemDescription</th>\n",
       "    </tr>\n",
       "  </thead>\n",
       "  <tbody>\n",
       "    <tr>\n",
       "      <th>0</th>\n",
       "      <td>1808</td>\n",
       "      <td>21-07-2015</td>\n",
       "      <td>tropical fruit</td>\n",
       "    </tr>\n",
       "    <tr>\n",
       "      <th>1</th>\n",
       "      <td>2552</td>\n",
       "      <td>05-01-2015</td>\n",
       "      <td>whole milk</td>\n",
       "    </tr>\n",
       "    <tr>\n",
       "      <th>2</th>\n",
       "      <td>2300</td>\n",
       "      <td>19-09-2015</td>\n",
       "      <td>pip fruit</td>\n",
       "    </tr>\n",
       "    <tr>\n",
       "      <th>3</th>\n",
       "      <td>1187</td>\n",
       "      <td>12-12-2015</td>\n",
       "      <td>other vegetables</td>\n",
       "    </tr>\n",
       "    <tr>\n",
       "      <th>4</th>\n",
       "      <td>3037</td>\n",
       "      <td>01-02-2015</td>\n",
       "      <td>whole milk</td>\n",
       "    </tr>\n",
       "  </tbody>\n",
       "</table>\n",
       "</div>"
      ],
      "text/plain": [
       "   Member_number        Date   itemDescription\n",
       "0           1808  21-07-2015    tropical fruit\n",
       "1           2552  05-01-2015        whole milk\n",
       "2           2300  19-09-2015         pip fruit\n",
       "3           1187  12-12-2015  other vegetables\n",
       "4           3037  01-02-2015        whole milk"
      ]
     },
     "execution_count": 3,
     "metadata": {},
     "output_type": "execute_result"
    }
   ],
   "source": [
    "# Previewing the data\n",
    "df_market.head()"
   ]
  },
  {
   "cell_type": "code",
   "execution_count": 4,
   "id": "5f8594f0-a41c-4cca-a2b6-dd1c77b6e5e0",
   "metadata": {},
   "outputs": [
    {
     "name": "stdout",
     "output_type": "stream",
     "text": [
      "There are 3 columns and 38765 rows in the dataset\n"
     ]
    }
   ],
   "source": [
    "# Number of rows and columns\n",
    "df_market.shape\n",
    "print(f'There are {df_market.shape[1]} columns and {df_market.shape[0]} rows in the dataset')"
   ]
  },
  {
   "cell_type": "code",
   "execution_count": 5,
   "id": "f21314c9-dcda-47ca-bcbd-201d47950abf",
   "metadata": {},
   "outputs": [
    {
     "name": "stdout",
     "output_type": "stream",
     "text": [
      "<class 'pandas.core.frame.DataFrame'>\n",
      "RangeIndex: 38765 entries, 0 to 38764\n",
      "Data columns (total 3 columns):\n",
      " #   Column           Non-Null Count  Dtype \n",
      "---  ------           --------------  ----- \n",
      " 0   Member_number    38765 non-null  int64 \n",
      " 1   Date             38765 non-null  object\n",
      " 2   itemDescription  38765 non-null  object\n",
      "dtypes: int64(1), object(2)\n",
      "memory usage: 908.7+ KB\n"
     ]
    }
   ],
   "source": [
    "# Overview of the dataset\n",
    "df_market.info()"
   ]
  },
  {
   "cell_type": "code",
   "execution_count": 6,
   "id": "f32970ea-f974-4f4d-ae7a-3cf1efe0712b",
   "metadata": {},
   "outputs": [
    {
     "data": {
      "text/plain": [
       "Member_number      0\n",
       "Date               0\n",
       "itemDescription    0\n",
       "dtype: int64"
      ]
     },
     "execution_count": 6,
     "metadata": {},
     "output_type": "execute_result"
    }
   ],
   "source": [
    "# Checking for null values\n",
    "df_market.isnull().sum()"
   ]
  },
  {
   "cell_type": "code",
   "execution_count": 8,
   "id": "a7a85559-b0ef-4933-9e63-cda7e7408c62",
   "metadata": {},
   "outputs": [],
   "source": [
    "# Convert Date column data type to date\n",
    "df_market['Date'] = pd.to_datetime(df_market['Date'])"
   ]
  },
  {
   "cell_type": "code",
   "execution_count": 10,
   "id": "56ea969f-a7b8-47c9-9716-1dc50335658d",
   "metadata": {},
   "outputs": [],
   "source": [
    "# Renaming the columns\n",
    "df_market.rename(columns= {'itemDescription':'Items', 'Member_number':'Member_id'}, inplace = True)"
   ]
  },
  {
   "cell_type": "code",
   "execution_count": 11,
   "id": "2e5c7ba8-3727-40be-94de-465631f37315",
   "metadata": {},
   "outputs": [
    {
     "name": "stdout",
     "output_type": "stream",
     "text": [
      "Number of unique items:  167\n",
      "Number of unique members:  3898\n",
      "Number of transactions made:  38765\n"
     ]
    }
   ],
   "source": [
    "# Number of items, members and transactions\n",
    "items = df_market.Items.nunique()\n",
    "members = df_market.Member_id.nunique()\n",
    "transaction = df_market.Member_id.count()\n",
    "print (\"Number of unique items: \", (items))\n",
    "print (\"Number of unique members: \", (members))\n",
    "print (\"Number of transactions made: \", (transaction))"
   ]
  },
  {
   "cell_type": "markdown",
   "id": "51f00407-7e82-4270-ace3-e526a77e2dcf",
   "metadata": {},
   "source": [
    "## Exploratory Data Analysis"
   ]
  },
  {
   "cell_type": "code",
   "execution_count": 12,
   "id": "4595fdd1-ad2d-4827-889f-8ca19be587ff",
   "metadata": {},
   "outputs": [
    {
     "data": {
      "image/png": "[encoded data removed]",
      "text/plain": [
       "<Figure size 432x288 with 1 Axes>"
      ]
     },
     "metadata": {},
     "output_type": "display_data"
    }
   ],
   "source": [
    "# Plotting the top 10 most sold items by count\n",
    "df_market['Items'].value_counts(ascending=False) [:10].plot(kind= 'barh', title = 'Top 10 most sold Items')\n",
    "plt.ylabel('Items')\n",
    "\n",
    "plt.show()"
   ]
  },
  {
   "cell_type": "code",
   "execution_count": 13,
   "id": "229f29fd-b16a-40b6-b73f-214a78cf3146",
   "metadata": {},
   "outputs": [
    {
     "data": {
      "image/png": "[encoded data removed]",
      "text/plain": [
       "<Figure size 432x288 with 1 Axes>"
      ]
     },
     "metadata": {},
     "output_type": "display_data"
    }
   ],
   "source": [
    "# Plotting the 10 least sold items by count\n",
    "df_market['Items'].value_counts(ascending=True) [:10].plot(kind= 'barh', title = 'Top 10 most sold Items')\n",
    "plt.ylabel('Items')\n",
    "\n",
    "plt.show()"
   ]
  },
  {
   "cell_type": "markdown",
   "id": "51f84a6c-d175-4a8a-8b31-859e23f30883",
   "metadata": {},
   "source": [
    "#### whole milk is the most sold item and preservation products is the least sold"
   ]
  },
  {
   "cell_type": "code",
   "execution_count": 14,
   "id": "2500d486-c6ad-4fd6-bd69-028634d5d556",
   "metadata": {},
   "outputs": [],
   "source": [
    "# Creating unique transactions for each customer based on the items purchased by date\n",
    "df_market['Transaction'] = df_market['Member_id'].astype(str) + '-' + df_market['Date'].astype(str)"
   ]
  },
  {
   "cell_type": "code",
   "execution_count": 15,
   "id": "b0d3183d-75c8-4504-9c39-58816bd3946c",
   "metadata": {},
   "outputs": [
    {
     "data": {
      "text/html": [
       "<div>\n",
       "<style scoped>\n",
       "    .dataframe tbody tr th:only-of-type {\n",
       "        vertical-align: middle;\n",
       "    }\n",
       "\n",
       "    .dataframe tbody tr th {\n",
       "        vertical-align: top;\n",
       "    }\n",
       "\n",
       "    .dataframe thead th {\n",
       "        text-align: right;\n",
       "    }\n",
       "</style>\n",
       "<table border=\"1\" class=\"dataframe\">\n",
       "  <thead>\n",
       "    <tr style=\"text-align: right;\">\n",
       "      <th>Items</th>\n",
       "      <th>Instant food products</th>\n",
       "      <th>UHT-milk</th>\n",
       "      <th>abrasive cleaner</th>\n",
       "      <th>artif. sweetener</th>\n",
       "      <th>baby cosmetics</th>\n",
       "      <th>bags</th>\n",
       "      <th>baking powder</th>\n",
       "      <th>bathroom cleaner</th>\n",
       "      <th>beef</th>\n",
       "      <th>berries</th>\n",
       "      <th>...</th>\n",
       "      <th>turkey</th>\n",
       "      <th>vinegar</th>\n",
       "      <th>waffles</th>\n",
       "      <th>whipped/sour cream</th>\n",
       "      <th>whisky</th>\n",
       "      <th>white bread</th>\n",
       "      <th>white wine</th>\n",
       "      <th>whole milk</th>\n",
       "      <th>yogurt</th>\n",
       "      <th>zwieback</th>\n",
       "    </tr>\n",
       "    <tr>\n",
       "      <th>Transaction</th>\n",
       "      <th></th>\n",
       "      <th></th>\n",
       "      <th></th>\n",
       "      <th></th>\n",
       "      <th></th>\n",
       "      <th></th>\n",
       "      <th></th>\n",
       "      <th></th>\n",
       "      <th></th>\n",
       "      <th></th>\n",
       "      <th></th>\n",
       "      <th></th>\n",
       "      <th></th>\n",
       "      <th></th>\n",
       "      <th></th>\n",
       "      <th></th>\n",
       "      <th></th>\n",
       "      <th></th>\n",
       "      <th></th>\n",
       "      <th></th>\n",
       "      <th></th>\n",
       "    </tr>\n",
       "  </thead>\n",
       "  <tbody>\n",
       "    <tr>\n",
       "      <th>1000-2014-06-24</th>\n",
       "      <td>0</td>\n",
       "      <td>0</td>\n",
       "      <td>0</td>\n",
       "      <td>0</td>\n",
       "      <td>0</td>\n",
       "      <td>0</td>\n",
       "      <td>0</td>\n",
       "      <td>0</td>\n",
       "      <td>0</td>\n",
       "      <td>0</td>\n",
       "      <td>...</td>\n",
       "      <td>0</td>\n",
       "      <td>0</td>\n",
       "      <td>0</td>\n",
       "      <td>0</td>\n",
       "      <td>0</td>\n",
       "      <td>0</td>\n",
       "      <td>0</td>\n",
       "      <td>1</td>\n",
       "      <td>0</td>\n",
       "      <td>0</td>\n",
       "    </tr>\n",
       "    <tr>\n",
       "      <th>1000-2015-03-15</th>\n",
       "      <td>0</td>\n",
       "      <td>0</td>\n",
       "      <td>0</td>\n",
       "      <td>0</td>\n",
       "      <td>0</td>\n",
       "      <td>0</td>\n",
       "      <td>0</td>\n",
       "      <td>0</td>\n",
       "      <td>0</td>\n",
       "      <td>0</td>\n",
       "      <td>...</td>\n",
       "      <td>0</td>\n",
       "      <td>0</td>\n",
       "      <td>0</td>\n",
       "      <td>0</td>\n",
       "      <td>0</td>\n",
       "      <td>0</td>\n",
       "      <td>0</td>\n",
       "      <td>1</td>\n",
       "      <td>1</td>\n",
       "      <td>0</td>\n",
       "    </tr>\n",
       "    <tr>\n",
       "      <th>1000-2015-05-27</th>\n",
       "      <td>0</td>\n",
       "      <td>0</td>\n",
       "      <td>0</td>\n",
       "      <td>0</td>\n",
       "      <td>0</td>\n",
       "      <td>0</td>\n",
       "      <td>0</td>\n",
       "      <td>0</td>\n",
       "      <td>0</td>\n",
       "      <td>0</td>\n",
       "      <td>...</td>\n",
       "      <td>0</td>\n",
       "      <td>0</td>\n",
       "      <td>0</td>\n",
       "      <td>0</td>\n",
       "      <td>0</td>\n",
       "      <td>0</td>\n",
       "      <td>0</td>\n",
       "      <td>0</td>\n",
       "      <td>0</td>\n",
       "      <td>0</td>\n",
       "    </tr>\n",
       "    <tr>\n",
       "      <th>1000-2015-07-24</th>\n",
       "      <td>0</td>\n",
       "      <td>0</td>\n",
       "      <td>0</td>\n",
       "      <td>0</td>\n",
       "      <td>0</td>\n",
       "      <td>0</td>\n",
       "      <td>0</td>\n",
       "      <td>0</td>\n",
       "      <td>0</td>\n",
       "      <td>0</td>\n",
       "      <td>...</td>\n",
       "      <td>0</td>\n",
       "      <td>0</td>\n",
       "      <td>0</td>\n",
       "      <td>0</td>\n",
       "      <td>0</td>\n",
       "      <td>0</td>\n",
       "      <td>0</td>\n",
       "      <td>0</td>\n",
       "      <td>0</td>\n",
       "      <td>0</td>\n",
       "    </tr>\n",
       "    <tr>\n",
       "      <th>1000-2015-11-25</th>\n",
       "      <td>0</td>\n",
       "      <td>0</td>\n",
       "      <td>0</td>\n",
       "      <td>0</td>\n",
       "      <td>0</td>\n",
       "      <td>0</td>\n",
       "      <td>0</td>\n",
       "      <td>0</td>\n",
       "      <td>0</td>\n",
       "      <td>0</td>\n",
       "      <td>...</td>\n",
       "      <td>0</td>\n",
       "      <td>0</td>\n",
       "      <td>0</td>\n",
       "      <td>0</td>\n",
       "      <td>0</td>\n",
       "      <td>0</td>\n",
       "      <td>0</td>\n",
       "      <td>0</td>\n",
       "      <td>0</td>\n",
       "      <td>0</td>\n",
       "    </tr>\n",
       "  </tbody>\n",
       "</table>\n",
       "<p>5 rows × 167 columns</p>\n",
       "</div>"
      ],
      "text/plain": [
       "Items            Instant food products  UHT-milk  abrasive cleaner  \\\n",
       "Transaction                                                          \n",
       "1000-2014-06-24                      0         0                 0   \n",
       "1000-2015-03-15                      0         0                 0   \n",
       "1000-2015-05-27                      0         0                 0   \n",
       "1000-2015-07-24                      0         0                 0   \n",
       "1000-2015-11-25                      0         0                 0   \n",
       "\n",
       "Items            artif. sweetener  baby cosmetics  bags  baking powder  \\\n",
       "Transaction                                                              \n",
       "1000-2014-06-24                 0               0     0              0   \n",
       "1000-2015-03-15                 0               0     0              0   \n",
       "1000-2015-05-27                 0               0     0              0   \n",
       "1000-2015-07-24                 0               0     0              0   \n",
       "1000-2015-11-25                 0               0     0              0   \n",
       "\n",
       "Items            bathroom cleaner  beef  berries  ...  turkey  vinegar  \\\n",
       "Transaction                                       ...                    \n",
       "1000-2014-06-24                 0     0        0  ...       0        0   \n",
       "1000-2015-03-15                 0     0        0  ...       0        0   \n",
       "1000-2015-05-27                 0     0        0  ...       0        0   \n",
       "1000-2015-07-24                 0     0        0  ...       0        0   \n",
       "1000-2015-11-25                 0     0        0  ...       0        0   \n",
       "\n",
       "Items            waffles  whipped/sour cream  whisky  white bread  white wine  \\\n",
       "Transaction                                                                     \n",
       "1000-2014-06-24        0                   0       0            0           0   \n",
       "1000-2015-03-15        0                   0       0            0           0   \n",
       "1000-2015-05-27        0                   0       0            0           0   \n",
       "1000-2015-07-24        0                   0       0            0           0   \n",
       "1000-2015-11-25        0                   0       0            0           0   \n",
       "\n",
       "Items            whole milk  yogurt  zwieback  \n",
       "Transaction                                    \n",
       "1000-2014-06-24           1       0         0  \n",
       "1000-2015-03-15           1       1         0  \n",
       "1000-2015-05-27           0       0         0  \n",
       "1000-2015-07-24           0       0         0  \n",
       "1000-2015-11-25           0       0         0  \n",
       "\n",
       "[5 rows x 167 columns]"
      ]
     },
     "execution_count": 15,
     "metadata": {},
     "output_type": "execute_result"
    }
   ],
   "source": [
    "# Crosstab is used to create a frequency table of the transactions\n",
    "df_grouped = pd.crosstab(df_market['Transaction'], df_market['Items'])\n",
    "df_grouped.head()"
   ]
  },
  {
   "cell_type": "code",
   "execution_count": 16,
   "id": "368f545f-6ff7-4e18-bfad-420ff57f11af",
   "metadata": {},
   "outputs": [],
   "source": [
    "# Encoding values to 0 and 1\n",
    "    \n",
    "df_basket = df_grouped.applymap(lambda x: 1 if x > 0 else 0)"
   ]
  },
  {
   "cell_type": "markdown",
   "id": "15fa21db-feba-4803-956c-4ef966fdff8a",
   "metadata": {},
   "source": [
    "## Generating association Rules\n",
    "#### This requires the use of apriori algorithm to discover relationships or associations within the items in the transactions"
   ]
  },
  {
   "cell_type": "code",
   "execution_count": 17,
   "id": "c1705bb2-8edb-49fa-a11e-ae1c080f8ec8",
   "metadata": {},
   "outputs": [],
   "source": [
    "# Importing apriori libraries\n",
    "from mlxtend.frequent_patterns import apriori\n",
    "from mlxtend.frequent_patterns import association_rules\n",
    "from mlxtend.preprocessing import TransactionEncoder"
   ]
  },
  {
   "cell_type": "code",
   "execution_count": 18,
   "id": "ce7eada8-784b-4045-8726-8897b6e145bf",
   "metadata": {},
   "outputs": [
    {
     "name": "stderr",
     "output_type": "stream",
     "text": [
      "C:\\Users\\hp\\anaconda3\\lib\\site-packages\\mlxtend\\frequent_patterns\\fpcommon.py:110: DeprecationWarning: DataFrames with non-bool types result in worse computationalperformance and their support might be discontinued in the future.Please use a DataFrame with bool type\n",
      "  warnings.warn(\n"
     ]
    },
    {
     "data": {
      "text/html": [
       "<div>\n",
       "<style scoped>\n",
       "    .dataframe tbody tr th:only-of-type {\n",
       "        vertical-align: middle;\n",
       "    }\n",
       "\n",
       "    .dataframe tbody tr th {\n",
       "        vertical-align: top;\n",
       "    }\n",
       "\n",
       "    .dataframe thead th {\n",
       "        text-align: right;\n",
       "    }\n",
       "</style>\n",
       "<table border=\"1\" class=\"dataframe\">\n",
       "  <thead>\n",
       "    <tr style=\"text-align: right;\">\n",
       "      <th></th>\n",
       "      <th>antecedents</th>\n",
       "      <th>consequents</th>\n",
       "      <th>antecedent support</th>\n",
       "      <th>consequent support</th>\n",
       "      <th>support</th>\n",
       "      <th>confidence</th>\n",
       "      <th>lift</th>\n",
       "      <th>leverage</th>\n",
       "      <th>conviction</th>\n",
       "      <th>zhangs_metric</th>\n",
       "    </tr>\n",
       "  </thead>\n",
       "  <tbody>\n",
       "    <tr>\n",
       "      <th>0</th>\n",
       "      <td>(whole milk)</td>\n",
       "      <td>(bottled beer)</td>\n",
       "      <td>0.157923</td>\n",
       "      <td>0.045312</td>\n",
       "      <td>0.007151</td>\n",
       "      <td>0.045281</td>\n",
       "      <td>0.999330</td>\n",
       "      <td>-0.000005</td>\n",
       "      <td>0.999968</td>\n",
       "      <td>-0.000795</td>\n",
       "    </tr>\n",
       "    <tr>\n",
       "      <th>1</th>\n",
       "      <td>(bottled beer)</td>\n",
       "      <td>(whole milk)</td>\n",
       "      <td>0.045312</td>\n",
       "      <td>0.157923</td>\n",
       "      <td>0.007151</td>\n",
       "      <td>0.157817</td>\n",
       "      <td>0.999330</td>\n",
       "      <td>-0.000005</td>\n",
       "      <td>0.999874</td>\n",
       "      <td>-0.000702</td>\n",
       "    </tr>\n",
       "    <tr>\n",
       "      <th>2</th>\n",
       "      <td>(canned beer)</td>\n",
       "      <td>(whole milk)</td>\n",
       "      <td>0.046916</td>\n",
       "      <td>0.157923</td>\n",
       "      <td>0.006015</td>\n",
       "      <td>0.128205</td>\n",
       "      <td>0.811821</td>\n",
       "      <td>-0.001394</td>\n",
       "      <td>0.965912</td>\n",
       "      <td>-0.195630</td>\n",
       "    </tr>\n",
       "    <tr>\n",
       "      <th>3</th>\n",
       "      <td>(whole milk)</td>\n",
       "      <td>(canned beer)</td>\n",
       "      <td>0.157923</td>\n",
       "      <td>0.046916</td>\n",
       "      <td>0.006015</td>\n",
       "      <td>0.038087</td>\n",
       "      <td>0.811821</td>\n",
       "      <td>-0.001394</td>\n",
       "      <td>0.990822</td>\n",
       "      <td>-0.215852</td>\n",
       "    </tr>\n",
       "    <tr>\n",
       "      <th>4</th>\n",
       "      <td>(citrus fruit)</td>\n",
       "      <td>(whole milk)</td>\n",
       "      <td>0.053131</td>\n",
       "      <td>0.157923</td>\n",
       "      <td>0.007151</td>\n",
       "      <td>0.134591</td>\n",
       "      <td>0.852259</td>\n",
       "      <td>-0.001240</td>\n",
       "      <td>0.973040</td>\n",
       "      <td>-0.154748</td>\n",
       "    </tr>\n",
       "  </tbody>\n",
       "</table>\n",
       "</div>"
      ],
      "text/plain": [
       "      antecedents     consequents  antecedent support  consequent support  \\\n",
       "0    (whole milk)  (bottled beer)            0.157923            0.045312   \n",
       "1  (bottled beer)    (whole milk)            0.045312            0.157923   \n",
       "2   (canned beer)    (whole milk)            0.046916            0.157923   \n",
       "3    (whole milk)   (canned beer)            0.157923            0.046916   \n",
       "4  (citrus fruit)    (whole milk)            0.053131            0.157923   \n",
       "\n",
       "    support  confidence      lift  leverage  conviction  zhangs_metric  \n",
       "0  0.007151    0.045281  0.999330 -0.000005    0.999968      -0.000795  \n",
       "1  0.007151    0.157817  0.999330 -0.000005    0.999874      -0.000702  \n",
       "2  0.006015    0.128205  0.811821 -0.001394    0.965912      -0.195630  \n",
       "3  0.006015    0.038087  0.811821 -0.001394    0.990822      -0.215852  \n",
       "4  0.007151    0.134591  0.852259 -0.001240    0.973040      -0.154748  "
      ]
     },
     "execution_count": 18,
     "metadata": {},
     "output_type": "execute_result"
    }
   ],
   "source": [
    "# Generate frequent itemsets with minimum support of 0.005 \n",
    "frequent_itemsets = apriori(df_basket, min_support=0.005,use_colnames=True)\n",
    "\n",
    "# Generate association rules\n",
    "rules = association_rules(frequent_itemsets, metric=\"lift\")\n",
    "rules.sort_values(by = 'zhangs_metric', ascending = False)\n",
    "rules.head()"
   ]
  },
  {
   "cell_type": "code",
   "execution_count": 19,
   "id": "a2282cbc-ff7a-4e49-9cf7-a46a71b4555d",
   "metadata": {},
   "outputs": [
    {
     "data": {
      "text/plain": [
       "126"
      ]
     },
     "execution_count": 19,
     "metadata": {},
     "output_type": "execute_result"
    }
   ],
   "source": [
    "# Length of the frequent itemsets\n",
    "len(frequent_itemsets)"
   ]
  },
  {
   "cell_type": "code",
   "execution_count": 20,
   "id": "20f64757-ff23-4b21-ac94-5a85319577c2",
   "metadata": {},
   "outputs": [
    {
     "name": "stdout",
     "output_type": "stream",
     "text": [
      "Frequent Itemsets:\n",
      "      support                      itemsets\n",
      "0    0.021386                    (UHT-milk)\n",
      "1    0.008087               (baking powder)\n",
      "2    0.033950                        (beef)\n",
      "3    0.021787                     (berries)\n",
      "4    0.016574                   (beverages)\n",
      "..        ...                           ...\n",
      "121  0.011629            (soda, whole milk)\n",
      "122  0.005814                (soda, yogurt)\n",
      "123  0.008220  (whole milk, tropical fruit)\n",
      "124  0.005213      (yogurt, tropical fruit)\n",
      "125  0.011161          (whole milk, yogurt)\n",
      "\n",
      "[126 rows x 2 columns]\n"
     ]
    }
   ],
   "source": [
    "# Print frequent itemsets\n",
    "print(\"Frequent Itemsets:\")\n",
    "print(frequent_itemsets)\n"
   ]
  },
  {
   "cell_type": "code",
   "execution_count": 21,
   "id": "258fef04-aad9-45f2-94ec-04d8451e3ecc",
   "metadata": {},
   "outputs": [
    {
     "name": "stdout",
     "output_type": "stream",
     "text": [
      "Cross-Selling Recommendations:\n",
      "Customers who bought 'bottled beer' also bought 'whole milk'.\n",
      "Customers who bought 'sausage' also bought 'whole milk'.\n",
      "Customers who bought 'newspapers' also bought 'whole milk'.\n",
      "Customers who bought 'domestic eggs' also bought 'whole milk'.\n",
      "Customers who bought 'frankfurter' also bought 'whole milk'.\n",
      "Customers who bought 'frankfurter' also bought 'other vegetables'.\n",
      "Customers who bought 'pork' also bought 'whole milk'.\n",
      "Customers who bought 'pip fruit' also bought 'whole milk'.\n",
      "Customers who bought 'citrus fruit' also bought 'whole milk'.\n",
      "Customers who bought 'shopping bags' also bought 'whole milk'.\n"
     ]
    }
   ],
   "source": [
    "# Filter association rules for cross-selling opportunities\n",
    "cross_selling_rules = rules[(rules['antecedents'].apply(len) == 1) & (rules['consequents'].apply(len) == 1)]\n",
    "\n",
    "# Sort rules based on confidence and support\n",
    "cross_selling_rules = cross_selling_rules.sort_values(by=['confidence', 'support'], ascending=False)\n",
    "\n",
    "# Select top cross-selling recommendations\n",
    "top_cross_selling = cross_selling_rules.head(10)\n",
    "\n",
    "# Display cross-selling recommendations\n",
    "print(\"Cross-Selling Recommendations:\")\n",
    "for idx, row in top_cross_selling.iterrows():\n",
    "    antecedent = list(row['antecedents'])[0]\n",
    "    consequent = list(row['consequents'])[0]\n",
    "    print(f\"Customers who bought '{antecedent}' also bought '{consequent}'.\")"
   ]
  },
  {
   "cell_type": "code",
   "execution_count": 22,
   "id": "3fe6048f-bcbb-40fd-b65e-015309d5b796",
   "metadata": {},
   "outputs": [],
   "source": [
    "rules_zhang= rules[rules['zhangs_metric'] > 0]"
   ]
  },
  {
   "cell_type": "code",
   "execution_count": 26,
   "id": "0011bdbb-f936-4121-8b41-926a5ff69aae",
   "metadata": {},
   "outputs": [
    {
     "name": "stderr",
     "output_type": "stream",
     "text": [
      "C:\\Users\\hp\\anaconda3\\lib\\site-packages\\seaborn\\matrix.py:302: MatplotlibDeprecationWarning: Auto-removal of grids by pcolor() and pcolormesh() is deprecated since 3.5 and will be removed two minor releases later; please call grid(False) first.\n",
      "  mesh = ax.pcolormesh(self.plot_data, cmap=self.cmap, **kws)\n",
      "C:\\Users\\hp\\anaconda3\\lib\\site-packages\\seaborn\\matrix.py:312: MatplotlibDeprecationWarning: Auto-removal of grids by pcolor() and pcolormesh() is deprecated since 3.5 and will be removed two minor releases later; please call grid(False) first.\n",
      "  cb = ax.figure.colorbar(mesh, cax, ax, **self.cbar_kws)\n"
     ]
    },
    {
     "data": {
      "image/png": "[encoded data removed]",
      "text/plain": [
       "<Figure size 720x720 with 2 Axes>"
      ]
     },
     "metadata": {},
     "output_type": "display_data"
    }
   ],
   "source": [
    "# Creating matrix and heatmap of association\n",
    "association = rules_zhang.pivot(index='antecedents', columns='consequents', values='zhangs_metric').fillna(0)\n",
    "plt.figure(figsize=(10, 10))\n",
    "sns.heatmap(association, annot=True, cmap='coolwarm')\n",
    "plt.title('Association Rules Heatmap: Frequent Itemset')\n",
    "plt.show()"
   ]
  },
  {
   "cell_type": "markdown",
   "id": "4c709bac-c789-41fc-9a16-71cbcabb9a5f",
   "metadata": {},
   "source": [
    "## Summary"
   ]
  },
  {
   "cell_type": "markdown",
   "id": "ca3a892f-8d34-4c22-909c-fde236d9626f",
   "metadata": {},
   "source": [
    "#### The most sold products are whole milk, other vegetables, rolls/buns, soda and yoghurt. These products are a driving force of sales in the supemaket. Items such as frankfurter and other vegetables, sausage and soda, yoghurt and soda are more likely to be purchased together"
   ]
  },
  {
   "cell_type": "markdown",
   "id": "ab24c59a-8e9f-4c02-968d-cd7886aa2916",
   "metadata": {},
   "source": [
    "## Recommendations"
   ]
  },
  {
   "cell_type": "markdown",
   "id": "87d07b7c-3a68-4f36-9c62-af0e8b8de116",
   "metadata": {},
   "source": [
    "#### The supermarket should be organized in a way that items more likely to be bought together should be arranged side by side for ease of access."
   ]
  },
  {
   "cell_type": "markdown",
   "id": "196ac758-ac2b-4a27-9ebf-c6a8b4918d8e",
   "metadata": {},
   "source": [
    "#### This is also useful in setting up an online store that will make recommendations to customers based on the products they have in their cart. "
   ]
  },
  {
   "cell_type": "markdown",
   "id": "9e5cfa74-e170-462b-9437-165c17d54a77",
   "metadata": {},
   "source": [
    "#### Promotions and discounts can also be done for this items more likely to be bought together to drive people to buy more,"
   ]
  },
  {
   "cell_type": "code",
   "execution_count": null,
   "id": "5430c12c-2bc4-4e31-8d90-961ab78921e4",
   "metadata": {},
   "outputs": [],
   "source": []
  }
 ],
 "metadata": {
  "kernelspec": {
   "display_name": "Python 3 (ipykernel)",
   "language": "python",
   "name": "python3"
  },
  "language_info": {
   "codemirror_mode": {
    "name": "ipython",
    "version": 3
   },
   "file_extension": ".py",
   "mimetype": "text/x-python",
   "name": "python",
   "nbconvert_exporter": "python",
   "pygments_lexer": "ipython3",
   "version": "3.9.12"
  }
 },
 "nbformat": 4,
 "nbformat_minor": 5
}
